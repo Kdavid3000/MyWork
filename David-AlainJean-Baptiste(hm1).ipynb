{
 "cells": [
  {
   "cell_type": "code",
   "execution_count": 35,
   "metadata": {},
   "outputs": [
    {
     "data": {
      "text/plain": [
       "int"
      ]
     },
     "execution_count": 35,
     "metadata": {},
     "output_type": "execute_result"
    }
   ],
   "source": [
    "#Basic\n",
    "#Question 1\n",
    "\n",
    "type(1)\n"
   ]
  },
  {
   "cell_type": "code",
   "execution_count": 28,
   "metadata": {},
   "outputs": [
    {
     "data": {
      "text/plain": [
       "float"
      ]
     },
     "execution_count": 28,
     "metadata": {},
     "output_type": "execute_result"
    }
   ],
   "source": [
    "type(3.14)"
   ]
  },
  {
   "cell_type": "code",
   "execution_count": 29,
   "metadata": {},
   "outputs": [
    {
     "data": {
      "text/plain": [
       "str"
      ]
     },
     "execution_count": 29,
     "metadata": {},
     "output_type": "execute_result"
    }
   ],
   "source": [
    "type(\"Big Data!\")"
   ]
  },
  {
   "cell_type": "code",
   "execution_count": 30,
   "metadata": {},
   "outputs": [
    {
     "data": {
      "text/plain": [
       "str"
      ]
     },
     "execution_count": 30,
     "metadata": {},
     "output_type": "execute_result"
    }
   ],
   "source": [
    "type('Big Data!')"
   ]
  },
  {
   "cell_type": "code",
   "execution_count": 31,
   "metadata": {},
   "outputs": [
    {
     "data": {
      "text/plain": [
       "bool"
      ]
     },
     "execution_count": 31,
     "metadata": {},
     "output_type": "execute_result"
    }
   ],
   "source": [
    "type(True)"
   ]
  },
  {
   "cell_type": "code",
   "execution_count": 32,
   "metadata": {},
   "outputs": [
    {
     "data": {
      "text/plain": [
       "bool"
      ]
     },
     "execution_count": 32,
     "metadata": {},
     "output_type": "execute_result"
    }
   ],
   "source": [
    "type(False)"
   ]
  },
  {
   "cell_type": "code",
   "execution_count": 33,
   "metadata": {},
   "outputs": [
    {
     "data": {
      "text/plain": [
       "list"
      ]
     },
     "execution_count": 33,
     "metadata": {},
     "output_type": "execute_result"
    }
   ],
   "source": [
    "type([1,2,\"intruder\",3])"
   ]
  },
  {
   "cell_type": "code",
   "execution_count": 34,
   "metadata": {},
   "outputs": [
    {
     "name": "stdout",
     "output_type": "stream",
     "text": [
      "1\n",
      "2\n",
      "Fizz\n",
      "4\n",
      "Buzz\n",
      "Fizz\n",
      "7\n",
      "8\n",
      "Fizz\n",
      "Buzz\n",
      "11\n",
      "Fizz\n",
      "13\n",
      "14\n",
      "FizzBuzz\n",
      "16\n",
      "17\n",
      "Fizz\n",
      "19\n",
      "Buzz\n",
      "Fizz\n",
      "22\n",
      "23\n",
      "Fizz\n",
      "Buzz\n",
      "26\n",
      "Fizz\n",
      "28\n",
      "29\n",
      "FizzBuzz\n",
      "31\n",
      "32\n",
      "Fizz\n",
      "34\n",
      "Buzz\n",
      "Fizz\n",
      "37\n",
      "38\n",
      "Fizz\n",
      "Buzz\n",
      "41\n",
      "Fizz\n",
      "43\n",
      "44\n",
      "FizzBuzz\n",
      "46\n",
      "47\n",
      "Fizz\n",
      "49\n",
      "Buzz\n",
      "Fizz\n",
      "52\n",
      "53\n",
      "Fizz\n",
      "Buzz\n",
      "56\n",
      "Fizz\n",
      "58\n",
      "59\n",
      "FizzBuzz\n",
      "61\n",
      "62\n",
      "Fizz\n",
      "64\n",
      "Buzz\n",
      "Fizz\n",
      "67\n",
      "68\n",
      "Fizz\n",
      "Buzz\n",
      "71\n",
      "Fizz\n",
      "73\n",
      "74\n",
      "FizzBuzz\n",
      "76\n",
      "77\n",
      "Fizz\n",
      "79\n",
      "Buzz\n",
      "Fizz\n",
      "82\n",
      "83\n",
      "Fizz\n",
      "Buzz\n",
      "86\n",
      "Fizz\n",
      "88\n",
      "89\n",
      "FizzBuzz\n",
      "91\n",
      "92\n",
      "Fizz\n",
      "94\n",
      "Buzz\n",
      "Fizz\n",
      "97\n",
      "98\n",
      "Fizz\n",
      "Buzz\n"
     ]
    }
   ],
   "source": [
    "#Question 2\n",
    "i=0\n",
    "while i<100:\n",
    "    i+=1\n",
    "    if i%5==0 and i%3==0:\n",
    "        print(\"FizzBuzz\")\n",
    "    elif i%3==0:\n",
    "        print(\"Fizz\")\n",
    "    elif i%5==0:\n",
    "        print(\"Buzz\")\n",
    "    else:\n",
    "        print(i)"
   ]
  },
  {
   "cell_type": "code",
   "execution_count": 27,
   "metadata": {},
   "outputs": [
    {
     "name": "stdout",
     "output_type": "stream",
     "text": [
      "23 345 77 435\n",
      "The sum of all the multiples of 3 or 5 below 1000 is : 233168\n",
      "min of input: 23 \n",
      "max of input: 435\n"
     ]
    }
   ],
   "source": [
    "#Question 3\n",
    "t_list=[int(x) for x in input().split()]\n",
    "M_list=max(t_list)\n",
    "m_list=min(t_list)\n",
    "N_list=[]\n",
    "for x in range(1,1000):\n",
    "    if x%3==0 or x%5==0:\n",
    "        N_list.append(x)   \n",
    "print(\"The sum of all the multiples of 3 or 5 below 1000 is :\",sum(N_list))\n",
    "print(\"min of input:\",m_list,\"\\nmax of input:\",M_list)    \n",
    "    \n",
    "    \n"
   ]
  },
  {
   "cell_type": "code",
   "execution_count": 14,
   "metadata": {},
   "outputs": [
    {
     "name": "stdout",
     "output_type": "stream",
     "text": [
      "anticonstitutionnellement\n",
      "ntcnstttnnllmnt\n"
     ]
    }
   ],
   "source": [
    "#4\n",
    "w_list=input().lower()\n",
    "vowels=[\"a\",\"e\",\"i\",\"o\",\"u\",\"y\"]\n",
    "for x in vowels:\n",
    "    w_list=w_list.replace(x,\"\")\n",
    "print(w_list)        "
   ]
  },
  {
   "cell_type": "code",
   "execution_count": 2,
   "metadata": {},
   "outputs": [
    {
     "name": "stdout",
     "output_type": "stream",
     "text": [
      "le ciel est bleu\n",
      "[{' ': 3, 'b': 1, 'c': 1, 'e': 4, 'i': 1, 'l': 3, 's': 1, 't': 1, 'u': 1}]\n"
     ]
    }
   ],
   "source": [
    "#Advanced\n",
    "#question 1\n",
    "alph={}\n",
    "s_alph=[]\n",
    "f_alph=[]\n",
    "string=input()\n",
    "for x in string:\n",
    "    s_alph.append(x)\n",
    "s_alph=sorted(s_alph)    \n",
    "for x in s_alph:    \n",
    "    if x not in alph:\n",
    "        alph[x]=1\n",
    "    else:\n",
    "        alph[x]+=1\n",
    "f_alph.append(alph)                \n",
    "print(f_alph)\n"
   ]
  },
  {
   "cell_type": "code",
   "execution_count": 13,
   "metadata": {},
   "outputs": [
    {
     "name": "stdout",
     "output_type": "stream",
     "text": [
      "the most important thing is the most important\n",
      "{'the': 2, 'most': 2, 'important': 2, 'thing': 1, 'is': 1}\n"
     ]
    }
   ],
   "source": [
    "#question 2\n",
    "word={}\n",
    "sentence=input().split()\n",
    "for x in sentence:\n",
    "    if x not in word:\n",
    "        word[x]=1\n",
    "    else:\n",
    "        word[x]+=1\n",
    "print(word)        "
   ]
  },
  {
   "cell_type": "code",
   "execution_count": 12,
   "metadata": {},
   "outputs": [
    {
     "name": "stdout",
     "output_type": "stream",
     "text": [
      "day,ciel,world,apple\n",
      "ady ceil dlorw aelpp\n"
     ]
    }
   ],
   "source": [
    "#question 3\n",
    "alph_n=[]\n",
    "u_word=[]\n",
    "so_word=[]\n",
    "comma=list(input().split(\",\"))\n",
    "for x in comma:\n",
    "    u_word.append(x)\n",
    "    for x in u_word[0]:\n",
    "        so_word.append(x)\n",
    "    so_word=sorted(so_word)\n",
    "    alph_n.append(\"\".join(so_word))\n",
    "    so_word=[]\n",
    "    u_word=[]\n",
    "so_word=sorted(so_word)        \n",
    "print(*alph_n)\n",
    "    \n",
    "    "
   ]
  },
  {
   "cell_type": "code",
   "execution_count": null,
   "metadata": {},
   "outputs": [],
   "source": [
    "#Reach\n",
    "#question 1\n",
    "while True:\n",
    "    print(\"Please give two lists of at least 4 numbers (separate list with enter key) :\")\n",
    "    try:\n",
    "        f_list = [float(x) for x in input().split()]\n",
    "        s_list = [float(x) for x in input().split()]\n",
    "        M_list = list(set(f_list + s_list))\n",
    "        M_list.sort()\n",
    "        if len(f_list) >= 4 and len(s_list) >= 4:\n",
    "            print(M_list)\n",
    "            break\n",
    "        else:\n",
    "            print(\"Both lists must contain at least 4 items\")\n",
    "            continue\n",
    "    except ValueError:\n",
    "        print(\"Invalid format!!!\\n\")\n",
    "        continue\n"
   ]
  },
  {
   "cell_type": "code",
   "execution_count": 37,
   "metadata": {},
   "outputs": [
    {
     "name": "stdout",
     "output_type": "stream",
     "text": [
      "Please give two lists of at least 4 numbers (separate list with enter key) :\n",
      "34 55 43 6677 33 57 888\n",
      "34 65 77 889 34 5\n",
      "[5.0, 33.0, 34.0, 43.0, 55.0, 57.0, 65.0, 77.0, 888.0, 889.0, 6677.0]\n",
      "[5.0, 33.0, 34.0, 55.0, 57.0]\n"
     ]
    }
   ],
   "source": [
    "#question 2\n",
    "while True:\n",
    "    print(\"Please give two lists of at least 4 numbers (separate list with enter key) :\")\n",
    "    try:\n",
    "        f_list = [float(x) for x in input().split()]\n",
    "        s_list = [float(x) for x in input().split()]\n",
    "        M_list = list(set(f_list + s_list))\n",
    "        M_list.sort()\n",
    "        if len(f_list) >= 4 and len(s_list) >= 4:\n",
    "            print(M_list)\n",
    "            break\n",
    "        else:\n",
    "            print(\"Both lists must contain at least 4 items\")\n",
    "            continue\n",
    "    except ValueError:\n",
    "        print(\"Invalid format!!!\\n\")\n",
    "        continue\n",
    "\n",
    "\n",
    "\n",
    "\n",
    "M_list=M_list[::-1]\n",
    "remove=[]\n",
    "for i in range(0,len(M_list)-2 ):\n",
    "    for j in range(i+1,len(M_list)-1 ):\n",
    "        r=(M_list[i]%M_list[j])\n",
    "        if r > 0 :\n",
    "            for x in range(j+1,len(M_list)):\n",
    "                f=r%M_list[x]\n",
    "                if f==0:\n",
    "                    remove.append(M_list[i])   \n",
    "                    break\n",
    "        if M_list[i] in remove:\n",
    "            break\n",
    "for x in remove:\n",
    "    if x in M_list:\n",
    "        M_list.remove(x)\n",
    "print(M_list[::-1])\n",
    "\n",
    "\n",
    "\n"
   ]
  },
  {
   "cell_type": "code",
   "execution_count": 38,
   "metadata": {},
   "outputs": [
    {
     "name": "stdout",
     "output_type": "stream",
     "text": [
      "Please give two lists of at least 4 numbers (separate list with enter key) :\n",
      "34 55 43 6677 33 57 888\n",
      "34 65 77 889 34 5\n",
      "[5.0, 33.0, 34.0, 43.0, 55.0, 57.0, 65.0, 77.0, 888.0, 889.0, 6677.0]\n",
      "[6677.0, 889.0, 888.0, 77.0, 65.0, 43.0] [5.0, 33.0, 34.0, 55.0, 57.0]\n"
     ]
    }
   ],
   "source": [
    "\n",
    "#This program does the same thing I just reversed the loop\n",
    "#so it has less lines, it also show a list of the removed elements\n",
    "\n",
    "while True:\n",
    "    print(\"Please give two lists of at least 4 numbers (separate list with enter key) :\")\n",
    "    try:\n",
    "        f_list = [float(x) for x in input().split()]\n",
    "        s_list = [float(x) for x in input().split()]\n",
    "        M_list = list(set(f_list + s_list))\n",
    "        M_list.sort()\n",
    "        if len(f_list) >= 4 and len(s_list) >= 4:\n",
    "            print(M_list)\n",
    "            break\n",
    "        else:\n",
    "            print(\"Both lists must contain at least 4 items\")\n",
    "            continue\n",
    "    except ValueError:\n",
    "        print(\"Invalid format!!!\\n\")\n",
    "        continue\n",
    "\n",
    "\n",
    "remove=[]\n",
    "for i in range(len(M_list)-1,1,-1 ):\n",
    "    for j in range(i-1,0 ,-1):\n",
    "        r=(M_list[i]% M_list[j])\n",
    "        if r > 0 :\n",
    "            for x in range(j-1,-1,-1):\n",
    "                f=r%M_list[x]\n",
    "                if f==0:\n",
    "                    remove.append(M_list[i]) \n",
    "                    break\n",
    "        if M_list[i] in remove:\n",
    "            break\n",
    "for x in remove:\n",
    "    if x in M_list:\n",
    "        M_list.remove(x)      \n",
    "print(remove,M_list)"
   ]
  },
  {
   "cell_type": "markdown",
   "metadata": {},
   "source": []
  }
 ],
 "metadata": {
  "kernelspec": {
   "display_name": "Python 3",
   "language": "python",
   "name": "python3"
  },
  "language_info": {
   "codemirror_mode": {
    "name": "ipython",
    "version": 3
   },
   "file_extension": ".py",
   "mimetype": "text/x-python",
   "name": "python",
   "nbconvert_exporter": "python",
   "pygments_lexer": "ipython3",
   "version": "3.7.3"
  }
 },
 "nbformat": 4,
 "nbformat_minor": 2
}
